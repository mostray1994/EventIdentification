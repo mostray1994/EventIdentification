{
 "cells": [
  {
   "cell_type": "code",
   "execution_count": 333,
   "metadata": {},
   "outputs": [
    {
     "name": "stdout",
     "output_type": "stream",
     "text": [
      "Index(['Unnamed: 0', 'id', 'title', 'description', 'time1', 'time2', 'tags',\n",
      "       'location', 'event'],\n",
      "      dtype='object')\n"
     ]
    }
   ],
   "source": [
    "from pandas import read_csv\n",
    "import pandas as pd\n",
    "import statsmodels.formula.api as smf\n",
    "import numpy as np\n",
    "import re\n",
    "from sklearn.feature_extraction.text import CountVectorizer\n",
    "from sklearn.feature_extraction.text import TfidfVectorizer\n",
    "\n",
    "data=pd.read_csv('cleaned_data.csv')\n",
    "print(data.keys())"
   ]
  },
  {
   "cell_type": "code",
   "execution_count": 334,
   "metadata": {},
   "outputs": [
    {
     "data": {
      "text/html": [
       "<div>\n",
       "<style>\n",
       "    .dataframe thead tr:only-child th {\n",
       "        text-align: right;\n",
       "    }\n",
       "\n",
       "    .dataframe thead th {\n",
       "        text-align: left;\n",
       "    }\n",
       "\n",
       "    .dataframe tbody tr th {\n",
       "        vertical-align: top;\n",
       "    }\n",
       "</style>\n",
       "<table border=\"1\" class=\"dataframe\">\n",
       "  <thead>\n",
       "    <tr style=\"text-align: right;\">\n",
       "      <th></th>\n",
       "      <th>id</th>\n",
       "      <th>title</th>\n",
       "      <th>description</th>\n",
       "      <th>time1</th>\n",
       "      <th>time2</th>\n",
       "      <th>tags</th>\n",
       "      <th>location</th>\n",
       "      <th>event</th>\n",
       "    </tr>\n",
       "  </thead>\n",
       "  <tbody>\n",
       "    <tr>\n",
       "      <th>0</th>\n",
       "      <td>361492738.0</td>\n",
       "      <td>Dan to the Right</td>\n",
       "      <td>This is ...Dan, he was to the right. Dan took ...</td>\n",
       "      <td>2006-01-01 07:14:38.000</td>\n",
       "      <td>2006-01-01 22:14:46.000</td>\n",
       "      <td>flickrmeetup , rochester , dan , totheright , ...</td>\n",
       "      <td>NaN</td>\n",
       "      <td>135961.0</td>\n",
       "    </tr>\n",
       "    <tr>\n",
       "      <th>1</th>\n",
       "      <td>361492799.0</td>\n",
       "      <td>Dan1</td>\n",
       "      <td>We had another Flickr meetup in Rochester, the...</td>\n",
       "      <td>2006-01-01 07:14:51.000</td>\n",
       "      <td>2007-01-17 22:14:27.000</td>\n",
       "      <td>flickrmeetup , rochester , dan , totheright , ...</td>\n",
       "      <td>NaN</td>\n",
       "      <td>135961.0</td>\n",
       "    </tr>\n",
       "    <tr>\n",
       "      <th>2</th>\n",
       "      <td>298736393.0</td>\n",
       "      <td>Flickrmeetup_01</td>\n",
       "      <td>&lt;a href=http://www.flickr.com/photos/mikros/&gt;M...</td>\n",
       "      <td>2006-01-01 08:46:37.000</td>\n",
       "      <td>2006-01-01 07:46:37.000</td>\n",
       "      <td>rochester , ny , usa , flickrmeetup , king76 ,...</td>\n",
       "      <td>GeoData[longitude=-77.58403 latitude=43.15915 ...</td>\n",
       "      <td>123862.0</td>\n",
       "    </tr>\n",
       "    <tr>\n",
       "      <th>3</th>\n",
       "      <td>298736445.0</td>\n",
       "      <td>Flickrmeetup_02</td>\n",
       "      <td>Our Latvian friend.</td>\n",
       "      <td>2006-01-01 08:46:46.000</td>\n",
       "      <td>2006-01-01 07:46:46.000</td>\n",
       "      <td>rochester , ny , usa , flickrmeetup , king76 ,...</td>\n",
       "      <td>GeoData[longitude=-77.58403 latitude=43.15915 ...</td>\n",
       "      <td>123862.0</td>\n",
       "    </tr>\n",
       "  </tbody>\n",
       "</table>\n",
       "</div>"
      ],
      "text/plain": [
       "            id             title  \\\n",
       "0  361492738.0  Dan to the Right   \n",
       "1  361492799.0              Dan1   \n",
       "2  298736393.0   Flickrmeetup_01   \n",
       "3  298736445.0   Flickrmeetup_02   \n",
       "\n",
       "                                         description                    time1  \\\n",
       "0  This is ...Dan, he was to the right. Dan took ...  2006-01-01 07:14:38.000   \n",
       "1  We had another Flickr meetup in Rochester, the...  2006-01-01 07:14:51.000   \n",
       "2  <a href=http://www.flickr.com/photos/mikros/>M...  2006-01-01 08:46:37.000   \n",
       "3                                Our Latvian friend.  2006-01-01 08:46:46.000   \n",
       "\n",
       "                     time2                                               tags  \\\n",
       "0  2006-01-01 22:14:46.000  flickrmeetup , rochester , dan , totheright , ...   \n",
       "1  2007-01-17 22:14:27.000  flickrmeetup , rochester , dan , totheright , ...   \n",
       "2  2006-01-01 07:46:37.000  rochester , ny , usa , flickrmeetup , king76 ,...   \n",
       "3  2006-01-01 07:46:46.000  rochester , ny , usa , flickrmeetup , king76 ,...   \n",
       "\n",
       "                                            location     event  \n",
       "0                                                NaN  135961.0  \n",
       "1                                                NaN  135961.0  \n",
       "2  GeoData[longitude=-77.58403 latitude=43.15915 ...  123862.0  \n",
       "3  GeoData[longitude=-77.58403 latitude=43.15915 ...  123862.0  "
      ]
     },
     "execution_count": 334,
     "metadata": {},
     "output_type": "execute_result"
    }
   ],
   "source": [
    "data=data.drop(['Unnamed: 0'],axis=1)\n",
    "data.head(4)\n"
   ]
  },
  {
   "cell_type": "code",
   "execution_count": 335,
   "metadata": {},
   "outputs": [
    {
     "name": "stdout",
     "output_type": "stream",
     "text": [
      "<class 'pandas.core.frame.DataFrame'>\n",
      "RangeIndex: 238289 entries, 0 to 238288\n",
      "Data columns (total 8 columns):\n",
      "id             238288 non-null float64\n",
      "title          228552 non-null object\n",
      "description    78167 non-null object\n",
      "time1          237305 non-null object\n",
      "time2          237305 non-null object\n",
      "tags           237305 non-null object\n",
      "location       89477 non-null object\n",
      "event          237304 non-null float64\n",
      "dtypes: float64(2), object(6)\n",
      "memory usage: 14.5+ MB\n"
     ]
    }
   ],
   "source": [
    "data.info()"
   ]
  },
  {
   "cell_type": "code",
   "execution_count": 336,
   "metadata": {},
   "outputs": [
    {
     "data": {
      "text/html": [
       "<div>\n",
       "<style>\n",
       "    .dataframe thead tr:only-child th {\n",
       "        text-align: right;\n",
       "    }\n",
       "\n",
       "    .dataframe thead th {\n",
       "        text-align: left;\n",
       "    }\n",
       "\n",
       "    .dataframe tbody tr th {\n",
       "        vertical-align: top;\n",
       "    }\n",
       "</style>\n",
       "<table border=\"1\" class=\"dataframe\">\n",
       "  <thead>\n",
       "    <tr style=\"text-align: right;\">\n",
       "      <th></th>\n",
       "      <th>id</th>\n",
       "      <th>title</th>\n",
       "      <th>description</th>\n",
       "      <th>time1</th>\n",
       "      <th>time2</th>\n",
       "      <th>tags</th>\n",
       "      <th>location</th>\n",
       "      <th>event</th>\n",
       "      <th>longitude</th>\n",
       "      <th>latitude</th>\n",
       "      <th>accuracy</th>\n",
       "    </tr>\n",
       "  </thead>\n",
       "  <tbody>\n",
       "    <tr>\n",
       "      <th>0</th>\n",
       "      <td>361492738.0</td>\n",
       "      <td>Dan to the Right</td>\n",
       "      <td>This is ...Dan, he was to the right. Dan took ...</td>\n",
       "      <td>2006-01-01 07:14:38.000</td>\n",
       "      <td>2006-01-01 22:14:46.000</td>\n",
       "      <td>flickrmeetup , rochester , dan , totheright , ...</td>\n",
       "      <td>l=0 n=0 a=0</td>\n",
       "      <td>135961</td>\n",
       "      <td>0</td>\n",
       "      <td>0</td>\n",
       "      <td>0</td>\n",
       "    </tr>\n",
       "    <tr>\n",
       "      <th>1</th>\n",
       "      <td>361492799.0</td>\n",
       "      <td>Dan1</td>\n",
       "      <td>We had another Flickr meetup in Rochester, the...</td>\n",
       "      <td>2006-01-01 07:14:51.000</td>\n",
       "      <td>2007-01-17 22:14:27.000</td>\n",
       "      <td>flickrmeetup , rochester , dan , totheright , ...</td>\n",
       "      <td>l=0 n=0 a=0</td>\n",
       "      <td>135961</td>\n",
       "      <td>0</td>\n",
       "      <td>0</td>\n",
       "      <td>0</td>\n",
       "    </tr>\n",
       "    <tr>\n",
       "      <th>2</th>\n",
       "      <td>298736393.0</td>\n",
       "      <td>Flickrmeetup_01</td>\n",
       "      <td>&lt;a href=http://www.flickr.com/photos/mikros/&gt;M...</td>\n",
       "      <td>2006-01-01 08:46:37.000</td>\n",
       "      <td>2006-01-01 07:46:37.000</td>\n",
       "      <td>rochester , ny , usa , flickrmeetup , king76 ,...</td>\n",
       "      <td>GeoData[longitude=-77.58403 latitude=43.15915 ...</td>\n",
       "      <td>123862</td>\n",
       "      <td>-77.58403</td>\n",
       "      <td>43.15915</td>\n",
       "      <td>15</td>\n",
       "    </tr>\n",
       "    <tr>\n",
       "      <th>3</th>\n",
       "      <td>298736445.0</td>\n",
       "      <td>Flickrmeetup_02</td>\n",
       "      <td>Our Latvian friend.</td>\n",
       "      <td>2006-01-01 08:46:46.000</td>\n",
       "      <td>2006-01-01 07:46:46.000</td>\n",
       "      <td>rochester , ny , usa , flickrmeetup , king76 ,...</td>\n",
       "      <td>GeoData[longitude=-77.58403 latitude=43.15915 ...</td>\n",
       "      <td>123862</td>\n",
       "      <td>-77.58403</td>\n",
       "      <td>43.15915</td>\n",
       "      <td>15</td>\n",
       "    </tr>\n",
       "    <tr>\n",
       "      <th>4</th>\n",
       "      <td>298736527.0</td>\n",
       "      <td>Flickrmeetup_03</td>\n",
       "      <td>One of my first Flickr contacts &lt;a href=http:/...</td>\n",
       "      <td>2006-01-01 08:46:54.000</td>\n",
       "      <td>2006-01-01 07:46:54.000</td>\n",
       "      <td>rochester , ny , usa , flickrmeetup , king76 ,...</td>\n",
       "      <td>GeoData[longitude=-77.58403 latitude=43.15915 ...</td>\n",
       "      <td>123862</td>\n",
       "      <td>-77.58403</td>\n",
       "      <td>43.15915</td>\n",
       "      <td>15</td>\n",
       "    </tr>\n",
       "    <tr>\n",
       "      <th>5</th>\n",
       "      <td>298736583.0</td>\n",
       "      <td>Flickrmeetup_04</td>\n",
       "      <td>Our Latvian friend.</td>\n",
       "      <td>2006-01-01 08:47:03.000</td>\n",
       "      <td>2006-01-01 07:47:03.000</td>\n",
       "      <td>rochester , ny , usa , flickrmeetup , king76 ,...</td>\n",
       "      <td>GeoData[longitude=-77.58403 latitude=43.15915 ...</td>\n",
       "      <td>123862</td>\n",
       "      <td>-77.58403</td>\n",
       "      <td>43.15915</td>\n",
       "      <td>15</td>\n",
       "    </tr>\n",
       "    <tr>\n",
       "      <th>6</th>\n",
       "      <td>298736638.0</td>\n",
       "      <td>Flickrmeetup_05</td>\n",
       "      <td>&lt;a href=http://www.flickr.com/photos/danpb/&gt;Da...</td>\n",
       "      <td>2006-01-01 08:47:12.000</td>\n",
       "      <td>2006-01-01 07:47:12.000</td>\n",
       "      <td>rochester , ny , usa , flickrmeetup , king76 ,...</td>\n",
       "      <td>GeoData[longitude=-77.58403 latitude=43.15915 ...</td>\n",
       "      <td>123862</td>\n",
       "      <td>-77.58403</td>\n",
       "      <td>43.15915</td>\n",
       "      <td>15</td>\n",
       "    </tr>\n",
       "    <tr>\n",
       "      <th>7</th>\n",
       "      <td>298736709.0</td>\n",
       "      <td>Flickrmeetup_06</td>\n",
       "      <td>Help, this is what you get when you give someo...</td>\n",
       "      <td>2006-01-01 08:47:22.000</td>\n",
       "      <td>2006-01-01 07:47:22.000</td>\n",
       "      <td>rochester , ny , usa , flickrmeetup , king76 ,...</td>\n",
       "      <td>GeoData[longitude=-77.58403 latitude=43.15915 ...</td>\n",
       "      <td>123862</td>\n",
       "      <td>-77.58403</td>\n",
       "      <td>43.15915</td>\n",
       "      <td>15</td>\n",
       "    </tr>\n",
       "    <tr>\n",
       "      <th>8</th>\n",
       "      <td>298736781.0</td>\n",
       "      <td>Flickrmeetup_07</td>\n",
       "      <td>&lt;a href=http://www.flickr.com/photos/jlam/&gt;jla...</td>\n",
       "      <td>2006-01-01 08:47:32.000</td>\n",
       "      <td>2006-11-16 07:47:32.000</td>\n",
       "      <td>rochester , ny , usa , flickrmeetup , king76 ,...</td>\n",
       "      <td>l=0 n=0 a=0</td>\n",
       "      <td>123862</td>\n",
       "      <td>0</td>\n",
       "      <td>0</td>\n",
       "      <td>0</td>\n",
       "    </tr>\n",
       "    <tr>\n",
       "      <th>9</th>\n",
       "      <td>298736848.0</td>\n",
       "      <td>Flickrmeetup_08</td>\n",
       "      <td>&lt;a href=http://www.flickr.com/photos/haccamopo...</td>\n",
       "      <td>2006-01-01 08:47:41.000</td>\n",
       "      <td>2006-01-01 07:47:41.000</td>\n",
       "      <td>rochester , ny , usa , flickrmeetup , king76 ,...</td>\n",
       "      <td>GeoData[longitude=-77.58403 latitude=43.15915 ...</td>\n",
       "      <td>123862</td>\n",
       "      <td>-77.58403</td>\n",
       "      <td>43.15915</td>\n",
       "      <td>15</td>\n",
       "    </tr>\n",
       "  </tbody>\n",
       "</table>\n",
       "</div>"
      ],
      "text/plain": [
       "            id             title  \\\n",
       "0  361492738.0  Dan to the Right   \n",
       "1  361492799.0              Dan1   \n",
       "2  298736393.0   Flickrmeetup_01   \n",
       "3  298736445.0   Flickrmeetup_02   \n",
       "4  298736527.0   Flickrmeetup_03   \n",
       "5  298736583.0   Flickrmeetup_04   \n",
       "6  298736638.0   Flickrmeetup_05   \n",
       "7  298736709.0   Flickrmeetup_06   \n",
       "8  298736781.0   Flickrmeetup_07   \n",
       "9  298736848.0   Flickrmeetup_08   \n",
       "\n",
       "                                         description                    time1  \\\n",
       "0  This is ...Dan, he was to the right. Dan took ...  2006-01-01 07:14:38.000   \n",
       "1  We had another Flickr meetup in Rochester, the...  2006-01-01 07:14:51.000   \n",
       "2  <a href=http://www.flickr.com/photos/mikros/>M...  2006-01-01 08:46:37.000   \n",
       "3                                Our Latvian friend.  2006-01-01 08:46:46.000   \n",
       "4  One of my first Flickr contacts <a href=http:/...  2006-01-01 08:46:54.000   \n",
       "5                                Our Latvian friend.  2006-01-01 08:47:03.000   \n",
       "6  <a href=http://www.flickr.com/photos/danpb/>Da...  2006-01-01 08:47:12.000   \n",
       "7  Help, this is what you get when you give someo...  2006-01-01 08:47:22.000   \n",
       "8  <a href=http://www.flickr.com/photos/jlam/>jla...  2006-01-01 08:47:32.000   \n",
       "9  <a href=http://www.flickr.com/photos/haccamopo...  2006-01-01 08:47:41.000   \n",
       "\n",
       "                     time2                                               tags  \\\n",
       "0  2006-01-01 22:14:46.000  flickrmeetup , rochester , dan , totheright , ...   \n",
       "1  2007-01-17 22:14:27.000  flickrmeetup , rochester , dan , totheright , ...   \n",
       "2  2006-01-01 07:46:37.000  rochester , ny , usa , flickrmeetup , king76 ,...   \n",
       "3  2006-01-01 07:46:46.000  rochester , ny , usa , flickrmeetup , king76 ,...   \n",
       "4  2006-01-01 07:46:54.000  rochester , ny , usa , flickrmeetup , king76 ,...   \n",
       "5  2006-01-01 07:47:03.000  rochester , ny , usa , flickrmeetup , king76 ,...   \n",
       "6  2006-01-01 07:47:12.000  rochester , ny , usa , flickrmeetup , king76 ,...   \n",
       "7  2006-01-01 07:47:22.000  rochester , ny , usa , flickrmeetup , king76 ,...   \n",
       "8  2006-11-16 07:47:32.000  rochester , ny , usa , flickrmeetup , king76 ,...   \n",
       "9  2006-01-01 07:47:41.000  rochester , ny , usa , flickrmeetup , king76 ,...   \n",
       "\n",
       "                                            location   event  longitude  \\\n",
       "0                                        l=0 n=0 a=0  135961          0   \n",
       "1                                        l=0 n=0 a=0  135961          0   \n",
       "2  GeoData[longitude=-77.58403 latitude=43.15915 ...  123862  -77.58403   \n",
       "3  GeoData[longitude=-77.58403 latitude=43.15915 ...  123862  -77.58403   \n",
       "4  GeoData[longitude=-77.58403 latitude=43.15915 ...  123862  -77.58403   \n",
       "5  GeoData[longitude=-77.58403 latitude=43.15915 ...  123862  -77.58403   \n",
       "6  GeoData[longitude=-77.58403 latitude=43.15915 ...  123862  -77.58403   \n",
       "7  GeoData[longitude=-77.58403 latitude=43.15915 ...  123862  -77.58403   \n",
       "8                                        l=0 n=0 a=0  123862          0   \n",
       "9  GeoData[longitude=-77.58403 latitude=43.15915 ...  123862  -77.58403   \n",
       "\n",
       "   latitude accuracy  \n",
       "0         0        0  \n",
       "1         0        0  \n",
       "2  43.15915       15  \n",
       "3  43.15915       15  \n",
       "4  43.15915       15  \n",
       "5  43.15915       15  \n",
       "6  43.15915       15  \n",
       "7  43.15915       15  \n",
       "8         0        0  \n",
       "9  43.15915       15  "
      ]
     },
     "execution_count": 336,
     "metadata": {},
     "output_type": "execute_result"
    }
   ],
   "source": [
    "data['event'].fillna(0, inplace=True)\n",
    "data['event']=data['event'].astype(int)\n",
    "data['location']=data['location'].fillna(\"l=0 n=0 a=0\")\n",
    "#data.head()\n",
    "data['first'] = data['location'].str.split(' ',expand=True)[0]\n",
    "data['second']=data['location'].str.split(' ',expand=True)[1]\n",
    "data['third']=data['location'].str.split(' ',expand=True)[2]\n",
    "\n",
    "data['longitude'] = data['first'].str.extract(r'(-?\\d+\\.?\\d*)', expand=False)\n",
    "data['latitude'] = data['second'].str.extract(r'(-?\\d+\\.?\\d*)', expand=False)\n",
    "data['accuracy'] = data['third'].str.extract(r'(-?\\d+\\.?\\d*)', expand=False)\n",
    "data=data.drop(['first'],axis=1)\n",
    "data=data.drop(['second'],axis=1)\n",
    "data=data.drop(['third'],axis=1)\n",
    "\n",
    "data.head(10)"
   ]
  },
  {
   "cell_type": "code",
   "execution_count": null,
   "metadata": {
    "collapsed": true
   },
   "outputs": [],
   "source": [
    "\n"
   ]
  },
  {
   "cell_type": "code",
   "execution_count": 337,
   "metadata": {},
   "outputs": [
    {
     "name": "stderr",
     "output_type": "stream",
     "text": [
      "C:\\ProgramData\\Anaconda3\\lib\\site-packages\\pandas\\core\\generic.py:3110: SettingWithCopyWarning: \n",
      "A value is trying to be set on a copy of a slice from a DataFrame.\n",
      "Try using .loc[row_indexer,col_indexer] = value instead\n",
      "\n",
      "See the caveats in the documentation: http://pandas.pydata.org/pandas-docs/stable/indexing.html#indexing-view-versus-copy\n",
      "  self[name] = value\n"
     ]
    }
   ],
   "source": [
    "test=data[1:100]\n",
    "test1=test\n",
    "test1.description=test1.description.astype(str)"
   ]
  },
  {
   "cell_type": "code",
   "execution_count": 344,
   "metadata": {
    "collapsed": true
   },
   "outputs": [],
   "source": [
    "data.description=data.description.astype(str)"
   ]
  },
  {
   "cell_type": "code",
   "execution_count": 345,
   "metadata": {},
   "outputs": [],
   "source": [
    "def get_corpus():\n",
    "    corpus = []\n",
    "    x=0\n",
    "    for item in data.description:\n",
    "        x+=1\n",
    "        #if x%10000==0:print(x)\n",
    "        if item!='nan':\n",
    "            corpus.append(item)\n",
    "    return corpus\n"
   ]
  },
  {
   "cell_type": "code",
   "execution_count": null,
   "metadata": {
    "collapsed": true
   },
   "outputs": [],
   "source": []
  },
  {
   "cell_type": "code",
   "execution_count": 352,
   "metadata": {},
   "outputs": [],
   "source": [
    "corpus=get_corpus()\n",
    "vectorizer=TfidfVectorizer()\n",
    "x=vectorizer.fit_transform(corpus)\n",
    "#corpus.head(10)"
   ]
  },
  {
   "cell_type": "code",
   "execution_count": 224,
   "metadata": {
    "collapsed": true
   },
   "outputs": [],
   "source": [
    "transformer = TfidfTransformer() #构建一个计算TF-IDF的玩意儿\n",
    "tfidf = transformer.fit_transform(vectorizer.fit_transform(corpus))"
   ]
  },
  {
   "cell_type": "code",
   "execution_count": 227,
   "metadata": {},
   "outputs": [
    {
     "data": {
      "text/plain": [
       "<78167x42851 sparse matrix of type '<class 'numpy.float64'>'\n",
       "\twith 834798 stored elements in Compressed Sparse Row format>"
      ]
     },
     "execution_count": 227,
     "metadata": {},
     "output_type": "execute_result"
    }
   ],
   "source": [
    "tfidf\n"
   ]
  },
  {
   "cell_type": "code",
   "execution_count": null,
   "metadata": {},
   "outputs": [],
   "source": []
  },
  {
   "cell_type": "code",
   "execution_count": 346,
   "metadata": {},
   "outputs": [],
   "source": [
    "from sklearn.feature_extraction.text import CountVectorizer\n",
    "from sklearn.feature_extraction.text import TfidfTransformer\n",
    "\n",
    "def tfidf():\n",
    "    corpus=get_corpus()\n",
    "    vectorizer=CountVectorizer(stop_words='english')\n",
    "    #vectorizer.fit_transform(corpus)\n",
    "    #corpus.head(10)\n",
    "    transformer = TfidfTransformer() #构建一个计算TF-IDF的玩意儿\n",
    "    tfidf = transformer.fit_transform(vectorizer.fit_transform(corpus))\n",
    "    return tfidf\n"
   ]
  },
  {
   "cell_type": "code",
   "execution_count": 347,
   "metadata": {
    "collapsed": true
   },
   "outputs": [],
   "source": [
    "import math\n",
    "def dot_product(v1, v2):\n",
    "    return sum(a * b for a, b in zip(v1, v2))\n",
    "def magnitude(vector):\n",
    "    return math.sqrt(dot_product(vector, vector))\n",
    "def similarityText(v1, v2):\n",
    "    return dot_product(v1, v2) / (magnitude(v1) * magnitude(v2) + .00000000001)"
   ]
  },
  {
   "cell_type": "code",
   "execution_count": 348,
   "metadata": {},
   "outputs": [
    {
     "data": {
      "text/plain": [
       "0.4326845758079696"
      ]
     },
     "execution_count": 348,
     "metadata": {},
     "output_type": "execute_result"
    }
   ],
   "source": [
    "similarity(a.toarray()[0],b.toarray()[0])"
   ]
  },
  {
   "cell_type": "code",
   "execution_count": 349,
   "metadata": {},
   "outputs": [],
   "source": [
    "stop_word=pd.read_csv('stopword.txt', header=None)\n",
    "stop_word.columns=['words']\n",
    "stopword=stop_word.words"
   ]
  },
  {
   "cell_type": "code",
   "execution_count": 350,
   "metadata": {},
   "outputs": [],
   "source": [
    "tfidf_new=tfidf()"
   ]
  },
  {
   "cell_type": "code",
   "execution_count": 305,
   "metadata": {},
   "outputs": [],
   "source": [
    "stop_word.columns=['words']"
   ]
  },
  {
   "cell_type": "code",
   "execution_count": 354,
   "metadata": {},
   "outputs": [
    {
     "name": "stdout",
     "output_type": "stream",
     "text": [
      "  (0, 38645)\t0.262237741794\n",
      "  (0, 21692)\t0.146034835487\n",
      "  (0, 12413)\t0.539606727576\n",
      "  (0, 19617)\t0.203032835128\n",
      "  (0, 41327)\t0.150534180648\n",
      "  (0, 38958)\t0.121162989106\n",
      "  (0, 38462)\t0.0766026595013\n",
      "  (0, 33145)\t0.227625459757\n",
      "  (0, 39072)\t0.203032835128\n",
      "  (0, 20477)\t0.0840516995928\n",
      "  (0, 20491)\t0.0840654461429\n",
      "  (0, 42297)\t0.111389750499\n",
      "  (0, 16851)\t0.136441348502\n",
      "  (0, 10884)\t0.0919286329738\n",
      "  (0, 30237)\t0.119555887715\n",
      "  (0, 12464)\t0.39715615527\n",
      "  (0, 2892)\t0.422457583631\n",
      "  (0, 35213)\t0.192767401322\n",
      "----------\n",
      "  (0, 12350)\t0.593916904395\n",
      "  (0, 32951)\t0.250535439074\n",
      "  (0, 38825)\t0.223467623303\n",
      "  (0, 20356)\t0.09251130996\n",
      "  (0, 20370)\t0.0925264400689\n",
      "  (0, 42011)\t0.122600872853\n",
      "  (0, 16757)\t0.150173856612\n",
      "  (0, 10825)\t0.10118103858\n",
      "  (0, 30047)\t0.131588913009\n",
      "  (0, 12401)\t0.437129009416\n",
      "  (0, 2892)\t0.464976968385\n",
      "  (0, 35011)\t0.21216899718\n"
     ]
    }
   ],
   "source": [
    "print(x[0])\n",
    "print(\"----------\")\n",
    "print(tfidf_new[0])"
   ]
  },
  {
   "cell_type": "code",
   "execution_count": 359,
   "metadata": {},
   "outputs": [
    {
     "ename": "AttributeError",
     "evalue": "'tuple' object has no attribute 'description'",
     "output_type": "error",
     "traceback": [
      "\u001b[1;31m---------------------------------------------------------------------------\u001b[0m",
      "\u001b[1;31mAttributeError\u001b[0m                            Traceback (most recent call last)",
      "\u001b[1;32m<ipython-input-359-36b97c6b21ad>\u001b[0m in \u001b[0;36m<module>\u001b[1;34m()\u001b[0m\n\u001b[0;32m      2\u001b[0m \u001b[0mcount\u001b[0m\u001b[1;33m=\u001b[0m\u001b[1;36m0\u001b[0m\u001b[1;33m\u001b[0m\u001b[0m\n\u001b[0;32m      3\u001b[0m \u001b[1;32mfor\u001b[0m \u001b[0mi\u001b[0m \u001b[1;32min\u001b[0m \u001b[0mdata\u001b[0m\u001b[1;33m.\u001b[0m\u001b[0miterrows\u001b[0m\u001b[1;33m(\u001b[0m\u001b[1;33m)\u001b[0m\u001b[1;33m:\u001b[0m\u001b[1;33m\u001b[0m\u001b[0m\n\u001b[1;32m----> 4\u001b[1;33m     \u001b[1;32mif\u001b[0m \u001b[0mi\u001b[0m\u001b[1;33m.\u001b[0m\u001b[0mdescription\u001b[0m\u001b[1;33m!=\u001b[0m\u001b[1;34m\"nan\"\u001b[0m\u001b[1;33m:\u001b[0m\u001b[1;33m\u001b[0m\u001b[0m\n\u001b[0m\u001b[0;32m      5\u001b[0m         \u001b[0mi\u001b[0m\u001b[1;33m[\u001b[0m\u001b[1;34m'des_tfidf'\u001b[0m\u001b[1;33m]\u001b[0m\u001b[1;33m=\u001b[0m\u001b[0mcount\u001b[0m\u001b[1;33m\u001b[0m\u001b[0m\n\u001b[0;32m      6\u001b[0m         \u001b[0mcount\u001b[0m\u001b[1;33m+=\u001b[0m\u001b[1;36m1\u001b[0m\u001b[1;33m\u001b[0m\u001b[0m\n",
      "\u001b[1;31mAttributeError\u001b[0m: 'tuple' object has no attribute 'description'"
     ]
    }
   ],
   "source": [
    "data['des_tfidf']=-1\n",
    "count=0\n",
    "for i in data.iterrows():\n",
    "    if i.description!=\"nan\":\n",
    "        i['des_tfidf']=count\n",
    "        count+=1\n",
    "data.head(10)"
   ]
  },
  {
   "cell_type": "code",
   "execution_count": null,
   "metadata": {},
   "outputs": [],
   "source": [
    "for i in data.iterrows():\n",
    "    print(i[2])"
   ]
  },
  {
   "cell_type": "code",
   "execution_count": null,
   "metadata": {},
   "outputs": [
    {
     "name": "stderr",
     "output_type": "stream",
     "text": [
      "C:\\ProgramData\\Anaconda3\\lib\\site-packages\\ipykernel_launcher.py:5: SettingWithCopyWarning: \n",
      "A value is trying to be set on a copy of a slice from a DataFrame\n",
      "\n",
      "See the caveats in the documentation: http://pandas.pydata.org/pandas-docs/stable/indexing.html#indexing-view-versus-copy\n",
      "  \"\"\"\n"
     ]
    }
   ],
   "source": [
    "num=len(data)\n",
    "data['des_tfidf']=-1\n",
    "count=0\n",
    "for i in range(0,num):\n",
    "    if count%1000==0:print(count)\n",
    "    if data.description[i]!=\"nan\":\n",
    "        data.des_tfidf[i]=count\n",
    "        count+=1\n",
    "data.head(10)"
   ]
  },
  {
   "cell_type": "code",
   "execution_count": null,
   "metadata": {
    "collapsed": true
   },
   "outputs": [],
   "source": []
  }
 ],
 "metadata": {
  "kernelspec": {
   "display_name": "Python 3",
   "language": "python",
   "name": "python3"
  },
  "language_info": {
   "codemirror_mode": {
    "name": "ipython",
    "version": 3
   },
   "file_extension": ".py",
   "mimetype": "text/x-python",
   "name": "python",
   "nbconvert_exporter": "python",
   "pygments_lexer": "ipython3",
   "version": "3.6.3"
  }
 },
 "nbformat": 4,
 "nbformat_minor": 2
}
